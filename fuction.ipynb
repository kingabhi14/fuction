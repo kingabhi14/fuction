{
  "nbformat": 4,
  "nbformat_minor": 0,
  "metadata": {
    "colab": {
      "provenance": []
    },
    "kernelspec": {
      "name": "python3",
      "display_name": "Python 3"
    },
    "language_info": {
      "name": "python"
    }
  },
  "cells": [
    {
      "cell_type": "markdown",
      "source": [
        "# Theory Questions Of Functions:\n",
        "\n",
        "\n",
        "1.What is the difference between a function and a method in Python?\n",
        "\n",
        "ANS --Functions\n",
        " are reusable blocks of code that perform a specific task.\n",
        "Functions can be used in both object-oriented and non-object-oriented programming languages.\n",
        "Functions can have zero or many arguments.\n",
        "Functions are called by name.\n",
        "\n",
        "Methods--\n",
        "Methods are used to encapsulate behaviors within objects.\n",
        "Methods are only applicable for object-oriented programming languages.\n",
        "Methods are accessed using dot notation.\n",
        "The first argument of a method should be \"self\".\n",
        "\n",
        "2.Explain the concept of function arguments and parameters in Python.\n",
        "\n",
        "ANS --Parameters are variables defined in a function declaration. This act as placeholders for the values  that will be passed to the function.\n",
        "\n",
        "Arguments are the actual values that you pass to the function when you call it. These values replace the parameters defined in the function.\n",
        "\n",
        "Although these terms are often used interchangeably, they have distinct roles within a function.\n",
        "\n"
      ],
      "metadata": {
        "id": "umk8ziClLCyy"
      }
    },
    {
      "cell_type": "markdown",
      "source": [
        "3.What are the different ways to define and call a function in Python?\n",
        "\n",
        "ANS --In Python, you can define a function using the def keyword, and call it by passing arguments to it. You can also use built-in functions, which are pre-defined in Python.\n",
        "\n",
        "Defining a function\n",
        "\n",
        "Use the def keyword\n",
        "Write the function name\n",
        "Add parentheses and a colon\n",
        "Indent with a tab or four spaces\n",
        "Specify what the function should do.\n",
        "\n",
        "Calling a function\n",
        "\n",
        "Pass arguments to the function\n",
        "Use built-in functions, which are pre-defined in Python.\n",
        "\n",
        "4.What is the purpose of the' return' statement in a Python function?\n",
        "\n",
        "ANS --The return statement in Python ends a function and sends back a value to the caller. It's used to return the result of a function's operations.\n",
        "\n"
      ],
      "metadata": {
        "id": "QXi-AueYOB2s"
      }
    },
    {
      "cell_type": "markdown",
      "source": [
        "5.What are iterators in Python and how do they differ from iterables?\n",
        "\n",
        "ANS --An Iterable is basically an object that any user can iterate over. An Iterator is also an object that helps a user in iterating over another object.An iterable is an object that can be looped over. An iterator is an object that aids in looping over another object (which is iterable).\n",
        "\n",
        "6.. Explain the concept of generators in Python and how they are defined.\n",
        "\n",
        "ANS --In Python, a generator is a function that returns an iterator that produces a sequence of values when iterated over.\n",
        "\n",
        "Generators are useful when we want to produce a large sequence of values, but we don't want to store all of them in memory at once.\n",
        "\n",
        "In Python, similar to defining a normal function, we can define a generator function using the def keyword, but instead of the return statement we use the yield statement."
      ],
      "metadata": {
        "id": "dUFoKwi-P4qD"
      }
    },
    {
      "cell_type": "markdown",
      "source": [
        "7.What are the advantages of using generators over regular functions?\n",
        "\n",
        "ANS --Generators have several advantages over regular functions, including:\n",
        "Memory efficiency:\n",
        "Generators are more memory efficient than regular functions because they only evaluate the code that is needed. This means that they don't need to store the entire sequence in memory at once.\n",
        "Lazy evaluation:\n",
        " Generators compute values only when they are needed, which can improve performance. This is called lazy evaluation.\n",
        "Speed:\n",
        " Generators can be faster than regular loops, especially when working with large data sets.\n",
        "Readability:\n",
        "Generators can make code easier to read and understand.\n",
        "Represent infinite streams: Generators can represent an infinite stream of data because they produce only one item at a time.\n",
        "Easy to implement:\n",
        " Generators can be implemented in a clear and concise way.\n",
        "Simplified code:\n",
        " Generators can produce cleaner and more readable code, especially when dealing with complex data processing.\n",
        "\n",
        " 8.What is a lambda function in Python and when is it typically used?\n",
        "\n",
        " ANS --A lambda function in Python is a small, anonymous function that's defined in a single line of code and used for short-term operations. The lambda keyword is used to define a lambda function, and the syntax is lambda parameters: expression."
      ],
      "metadata": {
        "id": "LNFx6CErRnzj"
      }
    },
    {
      "cell_type": "markdown",
      "source": [
        "9.. Explain the purpose and usage of the map() function in Python.\n",
        "\n",
        "ANS --The map() function in Python applies a function to every item in an iterable, such as a list or tuple, and returns a new iterable with the updated values. It's a built-in function that can be used to simplify iterative operations.\n",
        "\n",
        "\n",
        "Purpose\n",
        "\n",
        "\n",
        "Applies a function to every item in an iterable\n",
        "Returns a new iterable with the updated values\n",
        "Can be more efficient than using a for loop.\n",
        "\n",
        "Usage\n",
        "\n",
        "Can be used to convert strings to uppercase if they start with a vowel\n",
        "Can be used to convert strings to integers\n",
        "Can be used to accept multiple inputs in a single line.\n",
        "\n",
        "10.What is the difference between `map()`, `reduce()`, and `filter()` functions in Python?\n",
        "\n",
        "ANS --Map Example: This function takes a list of numbers and returns a new list with each number squared. Filter Example: This function creates a new list of only even numbers from a list of integers. Reduce Example: This function computes the sum of a list of numbers, reducing them to a single total."
      ],
      "metadata": {
        "id": "SYuAehVHS6JD"
      }
    },
    {
      "cell_type": "markdown",
      "source": [
        "PRACTICAL QUESTIONS\n",
        "\n",
        "1.Wtite a Python function that takes a list of numbers as input and returns the sum of all even numbers in\n",
        "the list."
      ],
      "metadata": {
        "id": "MDH2VipiY4W1"
      }
    },
    {
      "cell_type": "code",
      "source": [
        "def sum_of_even_numbers(numbers):\n",
        "\n",
        "    return sum(num for num in numbers if num % 2 == 0)\n",
        "\n",
        "numbers = [47, 11, 42, 13]\n",
        "result = sum_of_even_numbers(numbers)\n",
        "print(result)\n"
      ],
      "metadata": {
        "colab": {
          "base_uri": "https://localhost:8080/"
        },
        "id": "eLQA4tHRZhs8",
        "outputId": "9f1cc768-b4bf-4161-ec30-cfada355b673"
      },
      "execution_count": 1,
      "outputs": [
        {
          "output_type": "stream",
          "name": "stdout",
          "text": [
            "42\n"
          ]
        }
      ]
    },
    {
      "cell_type": "markdown",
      "source": [
        "2.. Create a Python function that accepts a string and returns the reverse of that string."
      ],
      "metadata": {
        "id": "QcZ-BDPHZ5sO"
      }
    },
    {
      "cell_type": "code",
      "source": [
        "def reverse_string(s):\n",
        "\n",
        "    return s[::-1]\n",
        "\n",
        "input_string = \"hello\"\n",
        "result = reverse_string(input_string)\n",
        "print(result)\n"
      ],
      "metadata": {
        "colab": {
          "base_uri": "https://localhost:8080/"
        },
        "id": "T1u1cF9qaG3O",
        "outputId": "937adac2-af93-45fd-8619-0a9d4c4e4c3c"
      },
      "execution_count": 2,
      "outputs": [
        {
          "output_type": "stream",
          "name": "stdout",
          "text": [
            "olleh\n"
          ]
        }
      ]
    },
    {
      "cell_type": "markdown",
      "source": [
        "3.Write a Python function that checks if a given number is prime or not from 1 to 200."
      ],
      "metadata": {
        "id": "rZMM18SAaW7r"
      }
    },
    {
      "cell_type": "code",
      "source": [
        "def is_prime(number):\n",
        "\n",
        "    if number < 2:\n",
        "        return False\n",
        "\n",
        "    for i in range(2, int(number**0.5) + 1):\n",
        "        if number % i == 0:\n",
        "            return False\n",
        "    return True\n",
        "\n",
        "prime_numbers = [num for num in range(1, 201) if is_prime(num)]\n",
        "\n",
        "print(prime_numbers)\n"
      ],
      "metadata": {
        "colab": {
          "base_uri": "https://localhost:8080/"
        },
        "id": "eyNcG2P9bKvF",
        "outputId": "35d0e3f4-05e0-4f73-adff-188de7eb9be3"
      },
      "execution_count": 5,
      "outputs": [
        {
          "output_type": "stream",
          "name": "stdout",
          "text": [
            "[2, 3, 5, 7, 11, 13, 17, 19, 23, 29, 31, 37, 41, 43, 47, 53, 59, 61, 67, 71, 73, 79, 83, 89, 97, 101, 103, 107, 109, 113, 127, 131, 137, 139, 149, 151, 157, 163, 167, 173, 179, 181, 191, 193, 197, 199]\n"
          ]
        }
      ]
    },
    {
      "cell_type": "markdown",
      "source": [
        "4. Create an iterator class in Python that generates the Fibonacci sequence up to a specified number of\n",
        "terms."
      ],
      "metadata": {
        "id": "RRDhU2NobcZF"
      }
    },
    {
      "cell_type": "code",
      "source": [
        "class FibonacciIterator:\n",
        "    def __init__(self, terms):\n",
        "        self.terms = terms\n",
        "        self.current = 0\n",
        "        self.previous = 0\n",
        "        self.next_term = 1\n",
        "        self.count = 0\n",
        "\n",
        "    def __iter__(self):\n",
        "        return self\n",
        "\n",
        "    def __next__(self):\n",
        "        if self.count >= self.terms:\n",
        "            raise StopIteration\n",
        "        if self.count == 0:\n",
        "            self.count += 1\n",
        "            return 0\n",
        "        elif self.count == 1:\n",
        "            self.count += 1\n",
        "            return 1\n",
        "        else:\n",
        "            fib_number = self.previous + self.next_term\n",
        "            self.previous, self.next_term = self.next_term, fib_number\n",
        "            self.count += 1\n",
        "            return fib_number\n",
        "\n",
        "\n",
        "fib_sequence = FibonacciIterator(10)\n",
        "for number in fib_sequence:\n",
        "    print(number)\n"
      ],
      "metadata": {
        "colab": {
          "base_uri": "https://localhost:8080/"
        },
        "id": "QzsFEKWobmx-",
        "outputId": "a51eadfb-248a-417d-be3f-0877617e5102"
      },
      "execution_count": 6,
      "outputs": [
        {
          "output_type": "stream",
          "name": "stdout",
          "text": [
            "0\n",
            "1\n",
            "1\n",
            "2\n",
            "3\n",
            "5\n",
            "8\n",
            "13\n",
            "21\n",
            "34\n"
          ]
        }
      ]
    },
    {
      "cell_type": "markdown",
      "source": [
        "5.Implement a Python function that takes a list of integers and returns a new list containing the squares of\n",
        "each number."
      ],
      "metadata": {
        "id": "8J2c2djgb7dE"
      }
    },
    {
      "cell_type": "code",
      "source": [
        "def square_numbers(numbers):\n",
        "\n",
        "    return [num ** 2 for num in numbers]\n",
        "\n",
        "input_list = [1, 2, 3, 4, 5]\n",
        "squared_list = square_numbers(input_list)\n",
        "print(squared_list)\n"
      ],
      "metadata": {
        "colab": {
          "base_uri": "https://localhost:8080/"
        },
        "id": "ZhzynJP-cMvE",
        "outputId": "e537768c-12ba-4a1f-9fc1-a42a5d98ce14"
      },
      "execution_count": 7,
      "outputs": [
        {
          "output_type": "stream",
          "name": "stdout",
          "text": [
            "[1, 4, 9, 16, 25]\n"
          ]
        }
      ]
    },
    {
      "cell_type": "markdown",
      "source": [
        "6. Write a generator function in Python that yields the powers of 2 up to a given exponent"
      ],
      "metadata": {
        "id": "7VSMY74_cbWt"
      }
    },
    {
      "cell_type": "code",
      "source": [
        "def powers_of_two(exponent):\n",
        "\n",
        "    for i in range(exponent + 1):\n",
        "        yield 2 ** i\n",
        "\n",
        "exponent = 5\n",
        "for power in powers_of_two(exponent):\n",
        "    print(power)\n"
      ],
      "metadata": {
        "colab": {
          "base_uri": "https://localhost:8080/"
        },
        "id": "TLN4ETuhckbH",
        "outputId": "337a7842-2584-404d-973c-44f87c8eb9f7"
      },
      "execution_count": 8,
      "outputs": [
        {
          "output_type": "stream",
          "name": "stdout",
          "text": [
            "1\n",
            "2\n",
            "4\n",
            "8\n",
            "16\n",
            "32\n"
          ]
        }
      ]
    },
    {
      "cell_type": "markdown",
      "source": [
        "7. Use a lambda function in Python to sort a list of tuples based on the second element of each tuple."
      ],
      "metadata": {
        "id": "RgFxN-WSc3EH"
      }
    },
    {
      "cell_type": "code",
      "source": [
        "\n",
        "tuple_list = [(1, 5), (3, 2), (4, 7), (2, 1)]\n",
        "\n",
        "\n",
        "sorted_list = sorted(tuple_list, key=lambda x: x[1])\n",
        "\n",
        "print(sorted_list)\n"
      ],
      "metadata": {
        "colab": {
          "base_uri": "https://localhost:8080/"
        },
        "id": "ADQ471N_c_mG",
        "outputId": "77ea1ba0-907e-4839-cdeb-d6df74ce0135"
      },
      "execution_count": 9,
      "outputs": [
        {
          "output_type": "stream",
          "name": "stdout",
          "text": [
            "[(2, 1), (3, 2), (1, 5), (4, 7)]\n"
          ]
        }
      ]
    },
    {
      "cell_type": "markdown",
      "source": [
        "8. Write a Python program that uses `map()` to convert a list of temperatures from Celsius to Fahrenheit"
      ],
      "metadata": {
        "id": "ZCvsWvgKdQtu"
      }
    },
    {
      "cell_type": "code",
      "source": [
        "\n",
        "def celsius_to_fahrenheit(celsius):\n",
        "    return (celsius * 9/5) + 32\n",
        "\n",
        "celsius_temperatures = [0, 10, 20, 30, 40, 100]\n",
        "\n",
        "fahrenheit_temperatures = list(map(celsius_to_fahrenheit, celsius_temperatures))\n",
        "\n",
        "print(fahrenheit_temperatures)\n"
      ],
      "metadata": {
        "colab": {
          "base_uri": "https://localhost:8080/"
        },
        "id": "kbKjIBlkdXj0",
        "outputId": "c33a3aa1-88e1-4684-92a6-bccd84ba19d4"
      },
      "execution_count": 10,
      "outputs": [
        {
          "output_type": "stream",
          "name": "stdout",
          "text": [
            "[32.0, 50.0, 68.0, 86.0, 104.0, 212.0]\n"
          ]
        }
      ]
    },
    {
      "cell_type": "markdown",
      "source": [
        "9. Create a Python program that uses `filter()` to remove all the vowels from a given string."
      ],
      "metadata": {
        "id": "74Z_klHjdmYu"
      }
    },
    {
      "cell_type": "code",
      "source": [
        "\n",
        "def is_not_vowel(char):\n",
        "    return char.lower() not in 'aeiou'\n",
        "\n",
        "\n",
        "input_string = \"Hello, World!\"\n",
        "\n",
        "filtered_string = ''.join(filter(is_not_vowel, input_string))\n",
        "\n",
        "print(filtered_string)\n"
      ],
      "metadata": {
        "colab": {
          "base_uri": "https://localhost:8080/"
        },
        "id": "_aDKzAQudtxd",
        "outputId": "4ef2dbc0-c9d0-4fc9-bb0d-da70eecc8883"
      },
      "execution_count": 11,
      "outputs": [
        {
          "output_type": "stream",
          "name": "stdout",
          "text": [
            "Hll, Wrld!\n"
          ]
        }
      ]
    }
  ]
}